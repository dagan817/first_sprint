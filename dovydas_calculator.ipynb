{
  "nbformat": 4,
  "nbformat_minor": 0,
  "metadata": {
    "colab": {
      "provenance": [],
      "authorship_tag": "ABX9TyPDsmQ7Q/q7AoXMAZrphfNt",
      "include_colab_link": true
    },
    "kernelspec": {
      "name": "python3",
      "display_name": "Python 3"
    },
    "language_info": {
      "name": "python"
    }
  },
  "cells": [
    {
      "cell_type": "markdown",
      "metadata": {
        "id": "view-in-github",
        "colab_type": "text"
      },
      "source": [
        "<a href=\"https://colab.research.google.com/github/dagan817/first_sprint/blob/main/dovydas_calculator.ipynb\" target=\"_parent\"><img src=\"https://colab.research.google.com/assets/colab-badge.svg\" alt=\"Open In Colab\"/></a>"
      ]
    },
    {
      "cell_type": "code",
      "execution_count": null,
      "metadata": {
        "id": "ZhCDeJv2HTho"
      },
      "outputs": [],
      "source": [
        "import math\n",
        "\n",
        "def add(x, y):\n",
        "    return x + y\n",
        "\n",
        "def subtract(x, y):\n",
        "    return x - y\n",
        "\n",
        "def multiply(x, y):\n",
        "    return x * y\n",
        "\n",
        "def divide(x, y):\n",
        "    if y != 0:\n",
        "        return x / y\n",
        "    else:\n",
        "        return \"Error: Division by zero\"\n",
        "\n",
        "def nth_root(x, n):\n",
        "    return x ** (1 / n)\n",
        "\n",
        "class Calculator:\n",
        "    def __init__(self):\n",
        "        self.memory = 0\n",
        "\n",
        "    def add_to_memory(self, value):\n",
        "        self.memory += value\n",
        "\n",
        "    def recall_memory(self):\n",
        "        return self.memory\n",
        "\n",
        "    def clear_memory(self):\n",
        "        self.memory = 0\n",
        "\n",
        "calculator = Calculator()\n",
        "\n",
        "print(\"Welcome to the calculator!\")\n",
        "\n",
        "while True:\n",
        "    print(\"Select operation:\")\n",
        "    print(\"1. Add\")\n",
        "    print(\"2. Subtract\")\n",
        "    print(\"3. Multiply\")\n",
        "    print(\"4. Divide\")\n",
        "    print(\"5. Take nth root\")\n",
        "    print(\"6. Store to Memory\")\n",
        "    print(\"7. Recall Memory\")\n",
        "    print(\"8. Clear Memory\")\n",
        "    print(\"9. Exit\")\n",
        "\n",
        "    choice = input(\"Enter choice (1-9): \")\n",
        "\n",
        "    if choice == \"9\":\n",
        "        print(\"Exiting calculator...\")\n",
        "        break\n",
        "\n",
        "    if choice not in [\"5\", \"6\", \"7\", \"8\"]:\n",
        "        num1 = float(input(\"Enter first number: \"))\n",
        "\n",
        "        if choice != \"5\":\n",
        "            num2 = float(input(\"Enter second number: \"))\n",
        "\n",
        "    if choice == \"1\":\n",
        "        print(\"Result:\", add(num1, num2))\n",
        "    elif choice == \"2\":\n",
        "        print(\"Result:\", subtract(num1, num2))\n",
        "    elif choice == \"3\":\n",
        "        print(\"Result:\", multiply(num1, num2))\n",
        "    elif choice == \"4\":\n",
        "        print(\"Result:\", divide(num1, num2))\n",
        "    elif choice == \"5\":\n",
        "        x = float(input(\"Enter the number: \"))\n",
        "        n = int(input(\"Enter the root value: \"))\n",
        "        print(\"Result:\", nth_root(x, n))\n",
        "    elif choice == \"6\":\n",
        "        value = float(input(\"Enter value to store: \"))\n",
        "        calculator.add_to_memory(value)\n",
        "        print(\"Value stored to memory.\")\n",
        "    elif choice == \"7\":\n",
        "        print(\"Memory:\", calculator.recall_memory())\n",
        "    elif choice == \"8\":\n",
        "        calculator.clear_memory()\n",
        "        print(\"Memory cleared.\")\n",
        "    else:\n",
        "        print(\"Invalid input! Please select a valid operation.\")"
      ]
    }
  ]
}